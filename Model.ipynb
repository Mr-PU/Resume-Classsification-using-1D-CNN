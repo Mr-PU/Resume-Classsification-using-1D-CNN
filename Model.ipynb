{
 "cells": [
  {
   "cell_type": "code",
   "execution_count": 1,
   "id": "6906b4a5",
   "metadata": {},
   "outputs": [],
   "source": [
    "import numpy as np\n",
    "import pandas as pd\n",
    "import re\n",
    "import nltk\n",
    "from nltk.stem import WordNetLemmatizer\n",
    "from nltk.corpus import stopwords\n",
    "from sklearn.preprocessing import LabelEncoder\n",
    "from sklearn.feature_extraction.text import CountVectorizer\n",
    "from sklearn.model_selection import train_test_split\n",
    "from sklearn import tree\n",
    "from sklearn.metrics import accuracy_score\n",
    "from keras.utils.np_utils import to_categorical\n",
    "import matplotlib.pyplot as plt"
   ]
  },
  {
   "cell_type": "markdown",
   "id": "388a454f",
   "metadata": {},
   "source": [
    "## About Data"
   ]
  },
  {
   "cell_type": "code",
   "execution_count": 2,
   "id": "e8d10e02",
   "metadata": {},
   "outputs": [],
   "source": [
    "df= pd.read_csv('ResumeDataSet.csv')"
   ]
  },
  {
   "cell_type": "code",
   "execution_count": 3,
   "id": "7835bcc8",
   "metadata": {},
   "outputs": [
    {
     "data": {
      "text/html": [
       "<div>\n",
       "<style scoped>\n",
       "    .dataframe tbody tr th:only-of-type {\n",
       "        vertical-align: middle;\n",
       "    }\n",
       "\n",
       "    .dataframe tbody tr th {\n",
       "        vertical-align: top;\n",
       "    }\n",
       "\n",
       "    .dataframe thead th {\n",
       "        text-align: right;\n",
       "    }\n",
       "</style>\n",
       "<table border=\"1\" class=\"dataframe\">\n",
       "  <thead>\n",
       "    <tr style=\"text-align: right;\">\n",
       "      <th></th>\n",
       "      <th>Category</th>\n",
       "      <th>Resume</th>\n",
       "    </tr>\n",
       "  </thead>\n",
       "  <tbody>\n",
       "    <tr>\n",
       "      <th>0</th>\n",
       "      <td>Data Science</td>\n",
       "      <td>Skills * Programming Languages: Python (pandas...</td>\n",
       "    </tr>\n",
       "    <tr>\n",
       "      <th>1</th>\n",
       "      <td>Data Science</td>\n",
       "      <td>Education Details \\r\\nMay 2013 to May 2017 B.E...</td>\n",
       "    </tr>\n",
       "    <tr>\n",
       "      <th>2</th>\n",
       "      <td>Data Science</td>\n",
       "      <td>Areas of Interest Deep Learning, Control Syste...</td>\n",
       "    </tr>\n",
       "    <tr>\n",
       "      <th>3</th>\n",
       "      <td>Data Science</td>\n",
       "      <td>Skills â¢ R â¢ Python â¢ SAP HANA â¢ Table...</td>\n",
       "    </tr>\n",
       "    <tr>\n",
       "      <th>4</th>\n",
       "      <td>Data Science</td>\n",
       "      <td>Education Details \\r\\n MCA   YMCAUST,  Faridab...</td>\n",
       "    </tr>\n",
       "    <tr>\n",
       "      <th>5</th>\n",
       "      <td>Data Science</td>\n",
       "      <td>SKILLS C Basics, IOT, Python, MATLAB, Data Sci...</td>\n",
       "    </tr>\n",
       "    <tr>\n",
       "      <th>6</th>\n",
       "      <td>Data Science</td>\n",
       "      <td>Skills â¢ Python â¢ Tableau â¢ Data Visuali...</td>\n",
       "    </tr>\n",
       "    <tr>\n",
       "      <th>7</th>\n",
       "      <td>Data Science</td>\n",
       "      <td>Education Details \\r\\n B.Tech   Rayat and Bahr...</td>\n",
       "    </tr>\n",
       "    <tr>\n",
       "      <th>8</th>\n",
       "      <td>Data Science</td>\n",
       "      <td>Personal Skills â¢ Ability to quickly grasp t...</td>\n",
       "    </tr>\n",
       "    <tr>\n",
       "      <th>9</th>\n",
       "      <td>Data Science</td>\n",
       "      <td>Expertise â Data and Quantitative Analysis â...</td>\n",
       "    </tr>\n",
       "    <tr>\n",
       "      <th>10</th>\n",
       "      <td>Data Science</td>\n",
       "      <td>Skills * Programming Languages: Python (pandas...</td>\n",
       "    </tr>\n",
       "    <tr>\n",
       "      <th>11</th>\n",
       "      <td>Data Science</td>\n",
       "      <td>Education Details \\r\\nMay 2013 to May 2017 B.E...</td>\n",
       "    </tr>\n",
       "    <tr>\n",
       "      <th>12</th>\n",
       "      <td>Data Science</td>\n",
       "      <td>Areas of Interest Deep Learning, Control Syste...</td>\n",
       "    </tr>\n",
       "    <tr>\n",
       "      <th>13</th>\n",
       "      <td>Data Science</td>\n",
       "      <td>Skills â¢ R â¢ Python â¢ SAP HANA â¢ Table...</td>\n",
       "    </tr>\n",
       "    <tr>\n",
       "      <th>14</th>\n",
       "      <td>Data Science</td>\n",
       "      <td>Education Details \\r\\n MCA   YMCAUST,  Faridab...</td>\n",
       "    </tr>\n",
       "    <tr>\n",
       "      <th>15</th>\n",
       "      <td>Data Science</td>\n",
       "      <td>SKILLS C Basics, IOT, Python, MATLAB, Data Sci...</td>\n",
       "    </tr>\n",
       "    <tr>\n",
       "      <th>16</th>\n",
       "      <td>Data Science</td>\n",
       "      <td>Skills â¢ Python â¢ Tableau â¢ Data Visuali...</td>\n",
       "    </tr>\n",
       "    <tr>\n",
       "      <th>17</th>\n",
       "      <td>Data Science</td>\n",
       "      <td>Education Details \\r\\n B.Tech   Rayat and Bahr...</td>\n",
       "    </tr>\n",
       "    <tr>\n",
       "      <th>18</th>\n",
       "      <td>Data Science</td>\n",
       "      <td>Personal Skills â¢ Ability to quickly grasp t...</td>\n",
       "    </tr>\n",
       "    <tr>\n",
       "      <th>19</th>\n",
       "      <td>Data Science</td>\n",
       "      <td>Expertise â Data and Quantitative Analysis â...</td>\n",
       "    </tr>\n",
       "  </tbody>\n",
       "</table>\n",
       "</div>"
      ],
      "text/plain": [
       "        Category                                             Resume\n",
       "0   Data Science  Skills * Programming Languages: Python (pandas...\n",
       "1   Data Science  Education Details \\r\\nMay 2013 to May 2017 B.E...\n",
       "2   Data Science  Areas of Interest Deep Learning, Control Syste...\n",
       "3   Data Science  Skills â¢ R â¢ Python â¢ SAP HANA â¢ Table...\n",
       "4   Data Science  Education Details \\r\\n MCA   YMCAUST,  Faridab...\n",
       "5   Data Science  SKILLS C Basics, IOT, Python, MATLAB, Data Sci...\n",
       "6   Data Science  Skills â¢ Python â¢ Tableau â¢ Data Visuali...\n",
       "7   Data Science  Education Details \\r\\n B.Tech   Rayat and Bahr...\n",
       "8   Data Science  Personal Skills â¢ Ability to quickly grasp t...\n",
       "9   Data Science  Expertise â Data and Quantitative Analysis â...\n",
       "10  Data Science  Skills * Programming Languages: Python (pandas...\n",
       "11  Data Science  Education Details \\r\\nMay 2013 to May 2017 B.E...\n",
       "12  Data Science  Areas of Interest Deep Learning, Control Syste...\n",
       "13  Data Science  Skills â¢ R â¢ Python â¢ SAP HANA â¢ Table...\n",
       "14  Data Science  Education Details \\r\\n MCA   YMCAUST,  Faridab...\n",
       "15  Data Science  SKILLS C Basics, IOT, Python, MATLAB, Data Sci...\n",
       "16  Data Science  Skills â¢ Python â¢ Tableau â¢ Data Visuali...\n",
       "17  Data Science  Education Details \\r\\n B.Tech   Rayat and Bahr...\n",
       "18  Data Science  Personal Skills â¢ Ability to quickly grasp t...\n",
       "19  Data Science  Expertise â Data and Quantitative Analysis â..."
      ]
     },
     "execution_count": 3,
     "metadata": {},
     "output_type": "execute_result"
    }
   ],
   "source": [
    "df.head(20)"
   ]
  },
  {
   "cell_type": "code",
   "execution_count": 4,
   "id": "2fa73b47",
   "metadata": {},
   "outputs": [
    {
     "data": {
      "text/plain": [
       "(962, 2)"
      ]
     },
     "execution_count": 4,
     "metadata": {},
     "output_type": "execute_result"
    }
   ],
   "source": [
    "df.shape"
   ]
  },
  {
   "cell_type": "code",
   "execution_count": 5,
   "id": "c5a2e2f9",
   "metadata": {},
   "outputs": [
    {
     "data": {
      "text/plain": [
       "array(['Data Science', 'HR', 'Advocate', 'Arts', 'Web Designing',\n",
       "       'Mechanical Engineer', 'Sales', 'Health and fitness',\n",
       "       'Civil Engineer', 'Java Developer', 'Business Analyst',\n",
       "       'SAP Developer', 'Automation Testing', 'Electrical Engineering',\n",
       "       'Operations Manager', 'Python Developer', 'DevOps Engineer',\n",
       "       'Network Security Engineer', 'PMO', 'Database', 'Hadoop',\n",
       "       'ETL Developer', 'DotNet Developer', 'Blockchain', 'Testing'],\n",
       "      dtype=object)"
      ]
     },
     "execution_count": 5,
     "metadata": {},
     "output_type": "execute_result"
    }
   ],
   "source": [
    "df['Category'].unique()"
   ]
  },
  {
   "cell_type": "code",
   "execution_count": 6,
   "id": "3214b157",
   "metadata": {},
   "outputs": [
    {
     "name": "stdout",
     "output_type": "stream",
     "text": [
      "<class 'pandas.core.frame.DataFrame'>\n",
      "RangeIndex: 962 entries, 0 to 961\n",
      "Data columns (total 2 columns):\n",
      " #   Column    Non-Null Count  Dtype \n",
      "---  ------    --------------  ----- \n",
      " 0   Category  962 non-null    object\n",
      " 1   Resume    962 non-null    object\n",
      "dtypes: object(2)\n",
      "memory usage: 15.2+ KB\n"
     ]
    }
   ],
   "source": [
    "df.info()"
   ]
  },
  {
   "cell_type": "code",
   "execution_count": 7,
   "id": "9fb669f7",
   "metadata": {},
   "outputs": [
    {
     "data": {
      "text/plain": [
       "Category    0\n",
       "Resume      0\n",
       "dtype: int64"
      ]
     },
     "execution_count": 7,
     "metadata": {},
     "output_type": "execute_result"
    }
   ],
   "source": [
    "df.isnull().sum() #checking for Null values"
   ]
  },
  {
   "cell_type": "code",
   "execution_count": 8,
   "id": "ceace459",
   "metadata": {},
   "outputs": [
    {
     "data": {
      "text/html": [
       "<div>\n",
       "<style scoped>\n",
       "    .dataframe tbody tr th:only-of-type {\n",
       "        vertical-align: middle;\n",
       "    }\n",
       "\n",
       "    .dataframe tbody tr th {\n",
       "        vertical-align: top;\n",
       "    }\n",
       "\n",
       "    .dataframe thead th {\n",
       "        text-align: right;\n",
       "    }\n",
       "</style>\n",
       "<table border=\"1\" class=\"dataframe\">\n",
       "  <thead>\n",
       "    <tr style=\"text-align: right;\">\n",
       "      <th></th>\n",
       "      <th>Category</th>\n",
       "      <th>Resume</th>\n",
       "    </tr>\n",
       "  </thead>\n",
       "  <tbody>\n",
       "    <tr>\n",
       "      <th>count</th>\n",
       "      <td>962</td>\n",
       "      <td>962</td>\n",
       "    </tr>\n",
       "    <tr>\n",
       "      <th>unique</th>\n",
       "      <td>25</td>\n",
       "      <td>166</td>\n",
       "    </tr>\n",
       "    <tr>\n",
       "      <th>top</th>\n",
       "      <td>Java Developer</td>\n",
       "      <td>Technical Skills Web Technologies: Angular JS,...</td>\n",
       "    </tr>\n",
       "    <tr>\n",
       "      <th>freq</th>\n",
       "      <td>84</td>\n",
       "      <td>18</td>\n",
       "    </tr>\n",
       "  </tbody>\n",
       "</table>\n",
       "</div>"
      ],
      "text/plain": [
       "              Category                                             Resume\n",
       "count              962                                                962\n",
       "unique              25                                                166\n",
       "top     Java Developer  Technical Skills Web Technologies: Angular JS,...\n",
       "freq                84                                                 18"
      ]
     },
     "execution_count": 8,
     "metadata": {},
     "output_type": "execute_result"
    }
   ],
   "source": [
    "df.describe(include=['O'])"
   ]
  },
  {
   "cell_type": "code",
   "execution_count": 9,
   "id": "655a637a",
   "metadata": {},
   "outputs": [
    {
     "data": {
      "text/plain": [
       "Java Developer               84\n",
       "Testing                      70\n",
       "DevOps Engineer              55\n",
       "Python Developer             48\n",
       "Web Designing                45\n",
       "HR                           44\n",
       "Hadoop                       42\n",
       "Blockchain                   40\n",
       "ETL Developer                40\n",
       "Operations Manager           40\n",
       "Data Science                 40\n",
       "Sales                        40\n",
       "Mechanical Engineer          40\n",
       "Arts                         36\n",
       "Database                     33\n",
       "Electrical Engineering       30\n",
       "Health and fitness           30\n",
       "PMO                          30\n",
       "Business Analyst             28\n",
       "DotNet Developer             28\n",
       "Automation Testing           26\n",
       "Network Security Engineer    25\n",
       "SAP Developer                24\n",
       "Civil Engineer               24\n",
       "Advocate                     20\n",
       "Name: Category, dtype: int64"
      ]
     },
     "execution_count": 9,
     "metadata": {},
     "output_type": "execute_result"
    }
   ],
   "source": [
    "categories = df['Category'].value_counts()\n",
    "categories"
   ]
  },
  {
   "cell_type": "markdown",
   "id": "6a15368c",
   "metadata": {},
   "source": [
    "## Data Processing"
   ]
  },
  {
   "cell_type": "code",
   "execution_count": 10,
   "id": "42a68cb1",
   "metadata": {},
   "outputs": [
    {
     "data": {
      "text/html": [
       "<div>\n",
       "<style scoped>\n",
       "    .dataframe tbody tr th:only-of-type {\n",
       "        vertical-align: middle;\n",
       "    }\n",
       "\n",
       "    .dataframe tbody tr th {\n",
       "        vertical-align: top;\n",
       "    }\n",
       "\n",
       "    .dataframe thead th {\n",
       "        text-align: right;\n",
       "    }\n",
       "</style>\n",
       "<table border=\"1\" class=\"dataframe\">\n",
       "  <thead>\n",
       "    <tr style=\"text-align: right;\">\n",
       "      <th></th>\n",
       "      <th>Category</th>\n",
       "      <th>Resume</th>\n",
       "      <th>Cleaned_Text</th>\n",
       "    </tr>\n",
       "  </thead>\n",
       "  <tbody>\n",
       "    <tr>\n",
       "      <th>0</th>\n",
       "      <td>Data Science</td>\n",
       "      <td>Skills * Programming Languages: Python (pandas...</td>\n",
       "      <td></td>\n",
       "    </tr>\n",
       "    <tr>\n",
       "      <th>1</th>\n",
       "      <td>Data Science</td>\n",
       "      <td>Education Details \\r\\nMay 2013 to May 2017 B.E...</td>\n",
       "      <td></td>\n",
       "    </tr>\n",
       "    <tr>\n",
       "      <th>2</th>\n",
       "      <td>Data Science</td>\n",
       "      <td>Areas of Interest Deep Learning, Control Syste...</td>\n",
       "      <td></td>\n",
       "    </tr>\n",
       "    <tr>\n",
       "      <th>3</th>\n",
       "      <td>Data Science</td>\n",
       "      <td>Skills â¢ R â¢ Python â¢ SAP HANA â¢ Table...</td>\n",
       "      <td></td>\n",
       "    </tr>\n",
       "    <tr>\n",
       "      <th>4</th>\n",
       "      <td>Data Science</td>\n",
       "      <td>Education Details \\r\\n MCA   YMCAUST,  Faridab...</td>\n",
       "      <td></td>\n",
       "    </tr>\n",
       "  </tbody>\n",
       "</table>\n",
       "</div>"
      ],
      "text/plain": [
       "       Category                                             Resume  \\\n",
       "0  Data Science  Skills * Programming Languages: Python (pandas...   \n",
       "1  Data Science  Education Details \\r\\nMay 2013 to May 2017 B.E...   \n",
       "2  Data Science  Areas of Interest Deep Learning, Control Syste...   \n",
       "3  Data Science  Skills â¢ R â¢ Python â¢ SAP HANA â¢ Table...   \n",
       "4  Data Science  Education Details \\r\\n MCA   YMCAUST,  Faridab...   \n",
       "\n",
       "  Cleaned_Text  \n",
       "0               \n",
       "1               \n",
       "2               \n",
       "3               \n",
       "4               "
      ]
     },
     "execution_count": 10,
     "metadata": {},
     "output_type": "execute_result"
    }
   ],
   "source": [
    "df1= df.copy()\n",
    "df1['Cleaned_Text']= \"\"\n",
    "df1.head()"
   ]
  },
  {
   "cell_type": "code",
   "execution_count": 11,
   "id": "28751e4c",
   "metadata": {},
   "outputs": [
    {
     "data": {
      "text/plain": [
       "Category        0\n",
       "Resume          0\n",
       "Cleaned_Text    0\n",
       "dtype: int64"
      ]
     },
     "execution_count": 11,
     "metadata": {},
     "output_type": "execute_result"
    }
   ],
   "source": [
    "df1.isnull().sum()"
   ]
  },
  {
   "cell_type": "markdown",
   "id": "c6be2b23",
   "metadata": {},
   "source": [
    "# Pre Processing"
   ]
  },
  {
   "cell_type": "code",
   "execution_count": 12,
   "id": "6d35126e",
   "metadata": {},
   "outputs": [],
   "source": [
    "def cleanResume(resumeText):\n",
    "    resumeText = re.sub('http\\S+\\s*', ' ', resumeText)  # remove URLs\n",
    "    resumeText = re.sub('RT|cc', ' ', resumeText)  # remove RT and cc\n",
    "    resumeText = re.sub('#\\S+', '', resumeText)  # remove hashtags\n",
    "    resumeText = re.sub('@\\S+', '  ', resumeText)  # remove mentions\n",
    "    resumeText = re.sub('[%s]' % re.escape(\"\"\"!\"#$%&'()*+,-./:;<=>?@[\\]^_`{|}~\"\"\"), ' ', resumeText)  # remove punctuations\n",
    "    resumeText = re.sub(r'[^\\x00-\\x7f]',r' ', resumeText) \n",
    "    resumeText = re.sub('\\s+', ' ', resumeText)  # remove extra whitespace\n",
    "    return resumeText"
   ]
  },
  {
   "cell_type": "code",
   "execution_count": 13,
   "id": "e350c5df",
   "metadata": {},
   "outputs": [],
   "source": [
    "df1['Cleaned_Text'] = df1.Resume.apply(lambda x: cleanResume(x))"
   ]
  },
  {
   "cell_type": "code",
   "execution_count": 14,
   "id": "5fdeba98",
   "metadata": {},
   "outputs": [
    {
     "data": {
      "text/html": [
       "<div>\n",
       "<style scoped>\n",
       "    .dataframe tbody tr th:only-of-type {\n",
       "        vertical-align: middle;\n",
       "    }\n",
       "\n",
       "    .dataframe tbody tr th {\n",
       "        vertical-align: top;\n",
       "    }\n",
       "\n",
       "    .dataframe thead th {\n",
       "        text-align: right;\n",
       "    }\n",
       "</style>\n",
       "<table border=\"1\" class=\"dataframe\">\n",
       "  <thead>\n",
       "    <tr style=\"text-align: right;\">\n",
       "      <th></th>\n",
       "      <th>Category</th>\n",
       "      <th>Resume</th>\n",
       "      <th>Cleaned_Text</th>\n",
       "    </tr>\n",
       "  </thead>\n",
       "  <tbody>\n",
       "    <tr>\n",
       "      <th>0</th>\n",
       "      <td>Data Science</td>\n",
       "      <td>Skills * Programming Languages: Python (pandas...</td>\n",
       "      <td>Skills Programming Languages Python pandas num...</td>\n",
       "    </tr>\n",
       "    <tr>\n",
       "      <th>1</th>\n",
       "      <td>Data Science</td>\n",
       "      <td>Education Details \\r\\nMay 2013 to May 2017 B.E...</td>\n",
       "      <td>Education Details May 2013 to May 2017 B E UIT...</td>\n",
       "    </tr>\n",
       "    <tr>\n",
       "      <th>2</th>\n",
       "      <td>Data Science</td>\n",
       "      <td>Areas of Interest Deep Learning, Control Syste...</td>\n",
       "      <td>Areas of Interest Deep Learning Control System...</td>\n",
       "    </tr>\n",
       "    <tr>\n",
       "      <th>3</th>\n",
       "      <td>Data Science</td>\n",
       "      <td>Skills â¢ R â¢ Python â¢ SAP HANA â¢ Table...</td>\n",
       "      <td>Skills R Python SAP HANA Tableau SAP HANA SQL ...</td>\n",
       "    </tr>\n",
       "    <tr>\n",
       "      <th>4</th>\n",
       "      <td>Data Science</td>\n",
       "      <td>Education Details \\r\\n MCA   YMCAUST,  Faridab...</td>\n",
       "      <td>Education Details MCA YMCAUST Faridabad Haryan...</td>\n",
       "    </tr>\n",
       "    <tr>\n",
       "      <th>...</th>\n",
       "      <td>...</td>\n",
       "      <td>...</td>\n",
       "      <td>...</td>\n",
       "    </tr>\n",
       "    <tr>\n",
       "      <th>957</th>\n",
       "      <td>Testing</td>\n",
       "      <td>Computer Skills: â¢ Proficient in MS office (...</td>\n",
       "      <td>Computer Skills Proficient in MS office Word B...</td>\n",
       "    </tr>\n",
       "    <tr>\n",
       "      <th>958</th>\n",
       "      <td>Testing</td>\n",
       "      <td>â Willingness to accept the challenges. â ...</td>\n",
       "      <td>Willingness to a ept the challenges Positive ...</td>\n",
       "    </tr>\n",
       "    <tr>\n",
       "      <th>959</th>\n",
       "      <td>Testing</td>\n",
       "      <td>PERSONAL SKILLS â¢ Quick learner, â¢ Eagerne...</td>\n",
       "      <td>PERSONAL SKILLS Quick learner Eagerness to lea...</td>\n",
       "    </tr>\n",
       "    <tr>\n",
       "      <th>960</th>\n",
       "      <td>Testing</td>\n",
       "      <td>COMPUTER SKILLS &amp; SOFTWARE KNOWLEDGE MS-Power ...</td>\n",
       "      <td>COMPUTER SKILLS SOFTWARE KNOWLEDGE MS Power Po...</td>\n",
       "    </tr>\n",
       "    <tr>\n",
       "      <th>961</th>\n",
       "      <td>Testing</td>\n",
       "      <td>Skill Set OS Windows XP/7/8/8.1/10 Database MY...</td>\n",
       "      <td>Skill Set OS Windows XP 7 8 8 1 10 Database MY...</td>\n",
       "    </tr>\n",
       "  </tbody>\n",
       "</table>\n",
       "<p>962 rows × 3 columns</p>\n",
       "</div>"
      ],
      "text/plain": [
       "         Category                                             Resume  \\\n",
       "0    Data Science  Skills * Programming Languages: Python (pandas...   \n",
       "1    Data Science  Education Details \\r\\nMay 2013 to May 2017 B.E...   \n",
       "2    Data Science  Areas of Interest Deep Learning, Control Syste...   \n",
       "3    Data Science  Skills â¢ R â¢ Python â¢ SAP HANA â¢ Table...   \n",
       "4    Data Science  Education Details \\r\\n MCA   YMCAUST,  Faridab...   \n",
       "..            ...                                                ...   \n",
       "957       Testing  Computer Skills: â¢ Proficient in MS office (...   \n",
       "958       Testing  â Willingness to accept the challenges. â ...   \n",
       "959       Testing  PERSONAL SKILLS â¢ Quick learner, â¢ Eagerne...   \n",
       "960       Testing  COMPUTER SKILLS & SOFTWARE KNOWLEDGE MS-Power ...   \n",
       "961       Testing  Skill Set OS Windows XP/7/8/8.1/10 Database MY...   \n",
       "\n",
       "                                          Cleaned_Text  \n",
       "0    Skills Programming Languages Python pandas num...  \n",
       "1    Education Details May 2013 to May 2017 B E UIT...  \n",
       "2    Areas of Interest Deep Learning Control System...  \n",
       "3    Skills R Python SAP HANA Tableau SAP HANA SQL ...  \n",
       "4    Education Details MCA YMCAUST Faridabad Haryan...  \n",
       "..                                                 ...  \n",
       "957  Computer Skills Proficient in MS office Word B...  \n",
       "958   Willingness to a ept the challenges Positive ...  \n",
       "959  PERSONAL SKILLS Quick learner Eagerness to lea...  \n",
       "960  COMPUTER SKILLS SOFTWARE KNOWLEDGE MS Power Po...  \n",
       "961  Skill Set OS Windows XP 7 8 8 1 10 Database MY...  \n",
       "\n",
       "[962 rows x 3 columns]"
      ]
     },
     "execution_count": 14,
     "metadata": {},
     "output_type": "execute_result"
    }
   ],
   "source": [
    "df1"
   ]
  },
  {
   "cell_type": "code",
   "execution_count": 15,
   "id": "02ed7cf7",
   "metadata": {},
   "outputs": [],
   "source": [
    "df1['Cleaned_Text'] = df1['Cleaned_Text'].apply(lambda x:x.lower()) #Converting data into lower case\n",
    "for i in range(len(df)):\n",
    "    lw=[]\n",
    "    for j in df1['Cleaned_Text'][i].split():\n",
    "        if len(j)>=3:                  \n",
    "            lw.append(j)\n",
    "    df1['Cleaned_Text'][i]=\" \".join(lw)"
   ]
  },
  {
   "cell_type": "code",
   "execution_count": 16,
   "id": "9acbc29c",
   "metadata": {},
   "outputs": [],
   "source": [
    "# ps = list(\";?.:!,\")\n",
    "# df1['Cleaned_Text'] = df1['Cleaned_Text']\n",
    "\n",
    "# for p in ps:   \n",
    "#     df1['Cleaned_Text'] = df1['Cleaned_Text'].str.replace(p, '')"
   ]
  },
  {
   "cell_type": "code",
   "execution_count": 17,
   "id": "b051c38d",
   "metadata": {},
   "outputs": [],
   "source": [
    "#Removing '\\n' and '\\t', extra spaces, quoting text\n",
    "df1['Cleaned_Text'] = df1['Cleaned_Text'].str.replace(\"    \", \" \")\n",
    "df1['Cleaned_Text'] = df1['Cleaned_Text'].str.replace('\"', '')\n",
    "df1['Cleaned_Text'] = df1['Cleaned_Text'].apply(lambda x: x.replace('\\t', ' '))\n",
    "df1['Cleaned_Text'] = df1['Cleaned_Text'].str.replace(\"'s\", \"\")\n",
    "df1['Cleaned_Text'] = df1['Cleaned_Text'].apply(lambda x: x.replace('\\n', ' '))"
   ]
  },
  {
   "cell_type": "markdown",
   "id": "52155008",
   "metadata": {},
   "source": [
    "## Lemmatization"
   ]
  },
  {
   "cell_type": "code",
   "execution_count": 18,
   "id": "f5245e1e",
   "metadata": {},
   "outputs": [
    {
     "name": "stderr",
     "output_type": "stream",
     "text": [
      "[nltk_data] Downloading package punkt to\n",
      "[nltk_data]     C:\\Users\\PRASHANT\\AppData\\Roaming\\nltk_data...\n",
      "[nltk_data]   Package punkt is already up-to-date!\n",
      "[nltk_data] Downloading package wordnet to\n",
      "[nltk_data]     C:\\Users\\PRASHANT\\AppData\\Roaming\\nltk_data...\n",
      "[nltk_data]   Package wordnet is already up-to-date!\n",
      "[nltk_data] Downloading package omw-1.4 to\n",
      "[nltk_data]     C:\\Users\\PRASHANT\\AppData\\Roaming\\nltk_data...\n",
      "[nltk_data]   Package omw-1.4 is already up-to-date!\n"
     ]
    },
    {
     "data": {
      "text/plain": [
       "True"
      ]
     },
     "execution_count": 18,
     "metadata": {},
     "output_type": "execute_result"
    }
   ],
   "source": [
    "nltk.download('punkt')\n",
    "nltk.download('wordnet')\n",
    "nltk.download('omw-1.4')"
   ]
  },
  {
   "cell_type": "code",
   "execution_count": 19,
   "id": "90e75a7e",
   "metadata": {},
   "outputs": [],
   "source": [
    "wl = WordNetLemmatizer()\n",
    "nr = len(df1)\n",
    "lis = []\n",
    "for r in range(0, nr):\n",
    "    ll = []\n",
    "    t = df1.loc[r]['Cleaned_Text']\n",
    "    tw = str(t).split(\" \")\n",
    "    for w in tw:\n",
    "        ll.append(wl.lemmatize(w, pos=\"v\"))\n",
    "    lt = \" \".join(ll)\n",
    "    lis.append(lt)"
   ]
  },
  {
   "cell_type": "code",
   "execution_count": 20,
   "id": "0ce0eac1",
   "metadata": {},
   "outputs": [
    {
     "data": {
      "text/plain": [
       "<WordNetLemmatizer>"
      ]
     },
     "execution_count": 20,
     "metadata": {},
     "output_type": "execute_result"
    }
   ],
   "source": [
    "wl"
   ]
  },
  {
   "cell_type": "code",
   "execution_count": 21,
   "id": "77217cbe",
   "metadata": {},
   "outputs": [],
   "source": [
    "df1['Cleaned_Text'] = lis"
   ]
  },
  {
   "cell_type": "markdown",
   "id": "b8a6eb95",
   "metadata": {},
   "source": [
    "## Removing Stop-words"
   ]
  },
  {
   "cell_type": "code",
   "execution_count": 22,
   "id": "5085855e",
   "metadata": {},
   "outputs": [
    {
     "name": "stderr",
     "output_type": "stream",
     "text": [
      "[nltk_data] Downloading package stopwords to\n",
      "[nltk_data]     C:\\Users\\PRASHANT\\AppData\\Roaming\\nltk_data...\n",
      "[nltk_data]   Package stopwords is already up-to-date!\n"
     ]
    },
    {
     "data": {
      "text/plain": [
       "True"
      ]
     },
     "execution_count": 22,
     "metadata": {},
     "output_type": "execute_result"
    }
   ],
   "source": [
    "nltk.download('stopwords')"
   ]
  },
  {
   "cell_type": "code",
   "execution_count": 23,
   "id": "f1bae539",
   "metadata": {},
   "outputs": [
    {
     "name": "stderr",
     "output_type": "stream",
     "text": [
      "C:\\Users\\PRASHANT\\AppData\\Local\\Temp\\ipykernel_17508\\4131384402.py:4: FutureWarning: The default value of regex will change from True to False in a future version.\n",
      "  df1['Cleaned_Text'] = df1['Cleaned_Text'].str.replace(rs, '')\n"
     ]
    }
   ],
   "source": [
    "sw = list(stopwords.words('english'))\n",
    "for s in sw:\n",
    "    rs = r\"\\b\" + s + r\"\\b\"\n",
    "    df1['Cleaned_Text'] = df1['Cleaned_Text'].str.replace(rs, '')"
   ]
  },
  {
   "cell_type": "markdown",
   "id": "6b47514a",
   "metadata": {},
   "source": [
    "# Data Preparation for Training and Testing\n"
   ]
  },
  {
   "cell_type": "code",
   "execution_count": 24,
   "id": "d33251e5",
   "metadata": {},
   "outputs": [],
   "source": [
    "df1['Category'] = LabelEncoder().fit_transform(df1['Category'])"
   ]
  },
  {
   "cell_type": "markdown",
   "id": "0d00ec05",
   "metadata": {},
   "source": [
    "## Converting Resumes content into Vector form¶"
   ]
  },
  {
   "cell_type": "code",
   "execution_count": 25,
   "id": "6b980906",
   "metadata": {},
   "outputs": [],
   "source": [
    "cv = CountVectorizer(max_features = 200)\n",
    "X = cv.fit_transform(df1['Cleaned_Text']).toarray()\n",
    "y = df1['Category']"
   ]
  },
  {
   "cell_type": "markdown",
   "id": "d15d7f62",
   "metadata": {},
   "source": [
    "# Train-Test split "
   ]
  },
  {
   "cell_type": "code",
   "execution_count": 26,
   "id": "b1a29c7b",
   "metadata": {},
   "outputs": [],
   "source": [
    "X_train, X_test, y_train, y_test = train_test_split(X, y, test_size = 0.3, stratify=y, random_state = 42)"
   ]
  },
  {
   "cell_type": "code",
   "execution_count": 27,
   "id": "36bcd346",
   "metadata": {},
   "outputs": [],
   "source": [
    "# clf = tree.DecisionTreeClassifier()\n",
    "# clf = clf.fit(X_train, y_train)\n",
    "# yp = clf.predict(X_test)\n",
    "# acc = accuracy_score(y_test, yp)\n",
    "# print(\"accuracy is: \",acc)"
   ]
  },
  {
   "cell_type": "code",
   "execution_count": 28,
   "id": "37c6e2cb",
   "metadata": {},
   "outputs": [],
   "source": [
    "y_train=to_categorical(y_train, num_classes = 25, dtype='float32')\n",
    "y_test=to_categorical(y_test, num_classes = 25, dtype='float32')"
   ]
  },
  {
   "cell_type": "code",
   "execution_count": 29,
   "id": "c03c7073",
   "metadata": {},
   "outputs": [],
   "source": [
    "from keras.models import Sequential,Model\n",
    "from tensorflow.keras.utils import plot_model\n",
    "from keras.layers import Dense,LSTM, SpatialDropout1D, Embedding \n",
    "from keras.layers import Dense, Embedding, GRU, LSTM, Dropout, Bidirectional\n",
    "from keras.layers import Conv1D, MaxPool1D, GlobalMaxPooling1D, GlobalAveragePooling1D"
   ]
  },
  {
   "cell_type": "markdown",
   "id": "3f997ed1",
   "metadata": {},
   "source": [
    "# 1D CNN model"
   ]
  },
  {
   "cell_type": "code",
   "execution_count": 30,
   "id": "5c7ac88e",
   "metadata": {},
   "outputs": [],
   "source": [
    "model = Sequential()\n",
    "model.add(Embedding(input_dim=232337, output_dim=100, input_length=X_train.shape[1]))\n",
    "model.add(Conv1D(128, 3, activation='relu'))\n",
    "model.add(MaxPool1D(3))\n",
    "model.add(Dropout(0.2))\n",
    "model.add(Conv1D(128, 3, activation='relu'))\n",
    "model.add(GlobalMaxPooling1D())\n",
    "model.add(Dropout(0.2))\n",
    "model.add(Dense(64, activation='relu'))\n",
    "model.add(Dropout(0.2))\n",
    "model.add(Dense(32, activation='relu'))\n",
    "model.add(Dropout(0.2))\n",
    "model.add(Dense(25, activation='softmax'))\n",
    "\n",
    "model.compile(loss='binary_crossentropy', optimizer=\"adam\", metrics=['accuracy'])"
   ]
  },
  {
   "cell_type": "code",
   "execution_count": 31,
   "id": "ba54f86c",
   "metadata": {},
   "outputs": [
    {
     "name": "stdout",
     "output_type": "stream",
     "text": [
      "Model: \"sequential\"\n",
      "_________________________________________________________________\n",
      " Layer (type)                Output Shape              Param #   \n",
      "=================================================================\n",
      " embedding (Embedding)       (None, 200, 100)          23233700  \n",
      "                                                                 \n",
      " conv1d (Conv1D)             (None, 198, 128)          38528     \n",
      "                                                                 \n",
      " max_pooling1d (MaxPooling1D  (None, 66, 128)          0         \n",
      " )                                                               \n",
      "                                                                 \n",
      " dropout (Dropout)           (None, 66, 128)           0         \n",
      "                                                                 \n",
      " conv1d_1 (Conv1D)           (None, 64, 128)           49280     \n",
      "                                                                 \n",
      " global_max_pooling1d (Globa  (None, 128)              0         \n",
      " lMaxPooling1D)                                                  \n",
      "                                                                 \n",
      " dropout_1 (Dropout)         (None, 128)               0         \n",
      "                                                                 \n",
      " dense (Dense)               (None, 64)                8256      \n",
      "                                                                 \n",
      " dropout_2 (Dropout)         (None, 64)                0         \n",
      "                                                                 \n",
      " dense_1 (Dense)             (None, 32)                2080      \n",
      "                                                                 \n",
      " dropout_3 (Dropout)         (None, 32)                0         \n",
      "                                                                 \n",
      " dense_2 (Dense)             (None, 25)                825       \n",
      "                                                                 \n",
      "=================================================================\n",
      "Total params: 23,332,669\n",
      "Trainable params: 23,332,669\n",
      "Non-trainable params: 0\n",
      "_________________________________________________________________\n"
     ]
    }
   ],
   "source": [
    "model.summary()"
   ]
  },
  {
   "cell_type": "code",
   "execution_count": 36,
   "id": "34aa6972",
   "metadata": {},
   "outputs": [
    {
     "name": "stdout",
     "output_type": "stream",
     "text": [
      "Epoch 1/150\n",
      "11/11 [==============================] - 3s 275ms/step - loss: 0.0067 - accuracy: 0.9881 - val_loss: 0.0208 - val_accuracy: 0.9585\n",
      "Epoch 2/150\n",
      "11/11 [==============================] - 3s 281ms/step - loss: 0.0063 - accuracy: 0.9851 - val_loss: 0.0194 - val_accuracy: 0.9585\n",
      "Epoch 3/150\n",
      "11/11 [==============================] - 3s 272ms/step - loss: 0.0068 - accuracy: 0.9807 - val_loss: 0.0190 - val_accuracy: 0.9585\n",
      "Epoch 4/150\n",
      "11/11 [==============================] - 3s 282ms/step - loss: 0.0087 - accuracy: 0.9777 - val_loss: 0.0174 - val_accuracy: 0.9585\n",
      "Epoch 5/150\n",
      "11/11 [==============================] - 3s 282ms/step - loss: 0.0065 - accuracy: 0.9911 - val_loss: 0.0188 - val_accuracy: 0.9585\n",
      "Epoch 6/150\n",
      "11/11 [==============================] - 3s 272ms/step - loss: 0.0091 - accuracy: 0.9658 - val_loss: 0.0171 - val_accuracy: 0.9585\n",
      "Epoch 7/150\n",
      "11/11 [==============================] - 3s 269ms/step - loss: 0.0105 - accuracy: 0.9777 - val_loss: 0.0138 - val_accuracy: 0.9585\n",
      "Epoch 8/150\n",
      "11/11 [==============================] - 3s 273ms/step - loss: 0.0080 - accuracy: 0.9837 - val_loss: 0.0151 - val_accuracy: 0.9585\n",
      "Epoch 9/150\n",
      "11/11 [==============================] - 3s 275ms/step - loss: 0.0077 - accuracy: 0.9807 - val_loss: 0.0199 - val_accuracy: 0.9585\n",
      "Epoch 10/150\n",
      "11/11 [==============================] - 3s 275ms/step - loss: 0.0076 - accuracy: 0.9837 - val_loss: 0.0221 - val_accuracy: 0.9585\n",
      "Epoch 11/150\n",
      "11/11 [==============================] - 3s 275ms/step - loss: 0.0080 - accuracy: 0.9747 - val_loss: 0.0201 - val_accuracy: 0.9585\n",
      "Epoch 12/150\n",
      "11/11 [==============================] - 3s 273ms/step - loss: 0.0085 - accuracy: 0.9703 - val_loss: 0.0187 - val_accuracy: 0.9689\n",
      "Epoch 13/150\n",
      "11/11 [==============================] - 3s 265ms/step - loss: 0.0070 - accuracy: 0.9792 - val_loss: 0.0191 - val_accuracy: 0.9585\n",
      "Epoch 14/150\n",
      "11/11 [==============================] - 3s 278ms/step - loss: 0.0067 - accuracy: 0.9792 - val_loss: 0.0200 - val_accuracy: 0.9585\n",
      "Epoch 15/150\n",
      "11/11 [==============================] - 3s 286ms/step - loss: 0.0069 - accuracy: 0.9733 - val_loss: 0.0208 - val_accuracy: 0.9585\n",
      "Epoch 16/150\n",
      "11/11 [==============================] - 3s 296ms/step - loss: 0.0076 - accuracy: 0.9777 - val_loss: 0.0196 - val_accuracy: 0.9585\n",
      "Epoch 17/150\n",
      "11/11 [==============================] - 3s 292ms/step - loss: 0.0073 - accuracy: 0.9807 - val_loss: 0.0190 - val_accuracy: 0.9585\n",
      "Epoch 18/150\n",
      "11/11 [==============================] - 3s 283ms/step - loss: 0.0076 - accuracy: 0.9777 - val_loss: 0.0184 - val_accuracy: 0.9689\n",
      "Epoch 19/150\n",
      "11/11 [==============================] - 3s 271ms/step - loss: 0.0096 - accuracy: 0.9718 - val_loss: 0.0154 - val_accuracy: 0.9585\n",
      "Epoch 20/150\n",
      "11/11 [==============================] - 3s 272ms/step - loss: 0.0075 - accuracy: 0.9792 - val_loss: 0.0177 - val_accuracy: 0.9585\n",
      "Epoch 21/150\n",
      "11/11 [==============================] - 3s 281ms/step - loss: 0.0063 - accuracy: 0.9807 - val_loss: 0.0175 - val_accuracy: 0.9585\n",
      "Epoch 22/150\n",
      "11/11 [==============================] - 3s 275ms/step - loss: 0.0070 - accuracy: 0.9822 - val_loss: 0.0200 - val_accuracy: 0.9585\n",
      "Epoch 23/150\n",
      "11/11 [==============================] - 3s 277ms/step - loss: 0.0065 - accuracy: 0.9837 - val_loss: 0.0211 - val_accuracy: 0.9585\n",
      "Epoch 24/150\n",
      "11/11 [==============================] - 3s 273ms/step - loss: 0.0065 - accuracy: 0.9866 - val_loss: 0.0194 - val_accuracy: 0.9585\n",
      "Epoch 25/150\n",
      "11/11 [==============================] - 3s 281ms/step - loss: 0.0069 - accuracy: 0.9881 - val_loss: 0.0197 - val_accuracy: 0.9585\n",
      "Epoch 26/150\n",
      "11/11 [==============================] - 3s 270ms/step - loss: 0.0062 - accuracy: 0.9911 - val_loss: 0.0234 - val_accuracy: 0.9585\n",
      "Epoch 27/150\n",
      "11/11 [==============================] - 3s 263ms/step - loss: 0.0053 - accuracy: 0.9851 - val_loss: 0.0224 - val_accuracy: 0.9585\n",
      "Epoch 28/150\n",
      "11/11 [==============================] - 3s 263ms/step - loss: 0.0054 - accuracy: 0.9926 - val_loss: 0.0214 - val_accuracy: 0.9585\n",
      "Epoch 29/150\n",
      "11/11 [==============================] - 3s 261ms/step - loss: 0.0056 - accuracy: 0.9896 - val_loss: 0.0191 - val_accuracy: 0.9585\n",
      "Epoch 30/150\n",
      "11/11 [==============================] - 3s 269ms/step - loss: 0.0074 - accuracy: 0.9837 - val_loss: 0.0201 - val_accuracy: 0.9585\n",
      "Epoch 31/150\n",
      "11/11 [==============================] - 3s 278ms/step - loss: 0.0065 - accuracy: 0.9851 - val_loss: 0.0197 - val_accuracy: 0.9585\n",
      "Epoch 32/150\n",
      "11/11 [==============================] - 3s 265ms/step - loss: 0.0062 - accuracy: 0.9822 - val_loss: 0.0184 - val_accuracy: 0.9585\n",
      "Epoch 33/150\n",
      "11/11 [==============================] - 3s 267ms/step - loss: 0.0057 - accuracy: 0.9926 - val_loss: 0.0171 - val_accuracy: 0.9689\n",
      "Epoch 34/150\n",
      "11/11 [==============================] - 3s 265ms/step - loss: 0.0071 - accuracy: 0.9747 - val_loss: 0.0229 - val_accuracy: 0.9585\n",
      "Epoch 35/150\n",
      "11/11 [==============================] - 3s 276ms/step - loss: 0.0067 - accuracy: 0.9822 - val_loss: 0.0204 - val_accuracy: 0.9585\n",
      "Epoch 36/150\n",
      "11/11 [==============================] - 3s 285ms/step - loss: 0.0058 - accuracy: 0.9866 - val_loss: 0.0204 - val_accuracy: 0.9585\n",
      "Epoch 37/150\n",
      "11/11 [==============================] - 3s 266ms/step - loss: 0.0066 - accuracy: 0.9866 - val_loss: 0.0211 - val_accuracy: 0.9585\n",
      "Epoch 38/150\n",
      "11/11 [==============================] - 3s 271ms/step - loss: 0.0067 - accuracy: 0.9822 - val_loss: 0.0185 - val_accuracy: 0.9585\n",
      "Epoch 39/150\n",
      "11/11 [==============================] - 3s 282ms/step - loss: 0.0059 - accuracy: 0.9866 - val_loss: 0.0193 - val_accuracy: 0.9585\n",
      "Epoch 40/150\n",
      "11/11 [==============================] - 3s 278ms/step - loss: 0.0048 - accuracy: 0.9941 - val_loss: 0.0181 - val_accuracy: 0.9585\n",
      "Epoch 41/150\n",
      "11/11 [==============================] - 3s 268ms/step - loss: 0.0065 - accuracy: 0.9822 - val_loss: 0.0208 - val_accuracy: 0.9585\n",
      "Epoch 42/150\n",
      "11/11 [==============================] - 3s 274ms/step - loss: 0.0058 - accuracy: 0.9866 - val_loss: 0.0238 - val_accuracy: 0.9585\n",
      "Epoch 43/150\n",
      "11/11 [==============================] - 3s 286ms/step - loss: 0.0058 - accuracy: 0.9866 - val_loss: 0.0235 - val_accuracy: 0.9585\n",
      "Epoch 44/150\n",
      "11/11 [==============================] - 3s 287ms/step - loss: 0.0060 - accuracy: 0.9851 - val_loss: 0.0223 - val_accuracy: 0.9585\n",
      "Epoch 45/150\n",
      "11/11 [==============================] - 3s 279ms/step - loss: 0.0048 - accuracy: 0.9866 - val_loss: 0.0219 - val_accuracy: 0.9585\n",
      "Epoch 46/150\n",
      "11/11 [==============================] - 3s 268ms/step - loss: 0.0087 - accuracy: 0.9747 - val_loss: 0.0180 - val_accuracy: 0.9585\n",
      "Epoch 47/150\n",
      "11/11 [==============================] - 3s 275ms/step - loss: 0.0062 - accuracy: 0.9851 - val_loss: 0.0165 - val_accuracy: 0.9585\n",
      "Epoch 48/150\n",
      "11/11 [==============================] - 3s 282ms/step - loss: 0.0050 - accuracy: 0.9881 - val_loss: 0.0185 - val_accuracy: 0.9585\n",
      "Epoch 49/150\n",
      "11/11 [==============================] - 3s 276ms/step - loss: 0.0054 - accuracy: 0.9881 - val_loss: 0.0217 - val_accuracy: 0.9585\n",
      "Epoch 50/150\n",
      "11/11 [==============================] - 3s 282ms/step - loss: 0.0058 - accuracy: 0.9881 - val_loss: 0.0208 - val_accuracy: 0.9585\n",
      "Epoch 51/150\n",
      "11/11 [==============================] - 3s 275ms/step - loss: 0.0054 - accuracy: 0.9911 - val_loss: 0.0202 - val_accuracy: 0.9585\n",
      "Epoch 52/150\n",
      "11/11 [==============================] - 3s 278ms/step - loss: 0.0060 - accuracy: 0.9822 - val_loss: 0.0190 - val_accuracy: 0.9585\n",
      "Epoch 53/150\n",
      "11/11 [==============================] - 3s 284ms/step - loss: 0.0049 - accuracy: 0.9837 - val_loss: 0.0210 - val_accuracy: 0.9585\n",
      "Epoch 54/150\n",
      "11/11 [==============================] - 3s 278ms/step - loss: 0.0057 - accuracy: 0.9881 - val_loss: 0.0208 - val_accuracy: 0.9585\n",
      "Epoch 55/150\n",
      "11/11 [==============================] - 3s 281ms/step - loss: 0.0064 - accuracy: 0.9866 - val_loss: 0.0203 - val_accuracy: 0.9585\n",
      "Epoch 56/150\n",
      "11/11 [==============================] - 3s 283ms/step - loss: 0.0048 - accuracy: 0.9866 - val_loss: 0.0195 - val_accuracy: 0.9585\n",
      "Epoch 57/150\n",
      "11/11 [==============================] - 3s 292ms/step - loss: 0.0071 - accuracy: 0.9822 - val_loss: 0.0176 - val_accuracy: 0.9585\n"
     ]
    },
    {
     "name": "stdout",
     "output_type": "stream",
     "text": [
      "Epoch 58/150\n",
      "11/11 [==============================] - 3s 298ms/step - loss: 0.0059 - accuracy: 0.9851 - val_loss: 0.0172 - val_accuracy: 0.9585\n",
      "Epoch 59/150\n",
      "11/11 [==============================] - 3s 318ms/step - loss: 0.0041 - accuracy: 0.9955 - val_loss: 0.0182 - val_accuracy: 0.9585\n",
      "Epoch 60/150\n",
      "11/11 [==============================] - 3s 292ms/step - loss: 0.0057 - accuracy: 0.9822 - val_loss: 0.0188 - val_accuracy: 0.9585\n",
      "Epoch 61/150\n",
      "11/11 [==============================] - 3s 297ms/step - loss: 0.0051 - accuracy: 0.9896 - val_loss: 0.0229 - val_accuracy: 0.9585\n",
      "Epoch 62/150\n",
      "11/11 [==============================] - 3s 270ms/step - loss: 0.0044 - accuracy: 0.9881 - val_loss: 0.0219 - val_accuracy: 0.9689\n",
      "Epoch 63/150\n",
      "11/11 [==============================] - 3s 277ms/step - loss: 0.0058 - accuracy: 0.9896 - val_loss: 0.0192 - val_accuracy: 0.9689\n",
      "Epoch 64/150\n",
      "11/11 [==============================] - 3s 281ms/step - loss: 0.0045 - accuracy: 0.9911 - val_loss: 0.0207 - val_accuracy: 0.9585\n",
      "Epoch 65/150\n",
      "11/11 [==============================] - 3s 276ms/step - loss: 0.0057 - accuracy: 0.9896 - val_loss: 0.0196 - val_accuracy: 0.9585\n",
      "Epoch 66/150\n",
      "11/11 [==============================] - 3s 288ms/step - loss: 0.0054 - accuracy: 0.9896 - val_loss: 0.0193 - val_accuracy: 0.9689\n",
      "Epoch 67/150\n",
      "11/11 [==============================] - 3s 277ms/step - loss: 0.0059 - accuracy: 0.9822 - val_loss: 0.0203 - val_accuracy: 0.9585\n",
      "Epoch 68/150\n",
      "11/11 [==============================] - 3s 290ms/step - loss: 0.0056 - accuracy: 0.9866 - val_loss: 0.0194 - val_accuracy: 0.9585\n",
      "Epoch 69/150\n",
      "11/11 [==============================] - 3s 271ms/step - loss: 0.0058 - accuracy: 0.9866 - val_loss: 0.0200 - val_accuracy: 0.9585\n",
      "Epoch 70/150\n",
      "11/11 [==============================] - 3s 274ms/step - loss: 0.0046 - accuracy: 0.9926 - val_loss: 0.0221 - val_accuracy: 0.9585\n",
      "Epoch 71/150\n",
      "11/11 [==============================] - 3s 276ms/step - loss: 0.0053 - accuracy: 0.9866 - val_loss: 0.0208 - val_accuracy: 0.9585\n",
      "Epoch 72/150\n",
      "11/11 [==============================] - 3s 287ms/step - loss: 0.0056 - accuracy: 0.9881 - val_loss: 0.0176 - val_accuracy: 0.9585\n",
      "Epoch 73/150\n",
      "11/11 [==============================] - 3s 276ms/step - loss: 0.0053 - accuracy: 0.9837 - val_loss: 0.0184 - val_accuracy: 0.9585\n",
      "Epoch 74/150\n",
      "11/11 [==============================] - 3s 299ms/step - loss: 0.0047 - accuracy: 0.9926 - val_loss: 0.0208 - val_accuracy: 0.9585\n",
      "Epoch 75/150\n",
      "11/11 [==============================] - 3s 288ms/step - loss: 0.0048 - accuracy: 0.9881 - val_loss: 0.0199 - val_accuracy: 0.9585\n",
      "Epoch 76/150\n",
      "11/11 [==============================] - 3s 286ms/step - loss: 0.0045 - accuracy: 0.9881 - val_loss: 0.0221 - val_accuracy: 0.9585\n",
      "Epoch 77/150\n",
      "11/11 [==============================] - 3s 279ms/step - loss: 0.0053 - accuracy: 0.9881 - val_loss: 0.0195 - val_accuracy: 0.9689\n",
      "Epoch 78/150\n",
      "11/11 [==============================] - 3s 285ms/step - loss: 0.0032 - accuracy: 0.9970 - val_loss: 0.0187 - val_accuracy: 0.9585\n",
      "Epoch 79/150\n",
      "11/11 [==============================] - 3s 272ms/step - loss: 0.0044 - accuracy: 0.9881 - val_loss: 0.0185 - val_accuracy: 0.9585\n",
      "Epoch 80/150\n",
      "11/11 [==============================] - 3s 270ms/step - loss: 0.0066 - accuracy: 0.9851 - val_loss: 0.0183 - val_accuracy: 0.9585\n",
      "Epoch 81/150\n",
      "11/11 [==============================] - 3s 269ms/step - loss: 0.0039 - accuracy: 0.9941 - val_loss: 0.0184 - val_accuracy: 0.9585\n",
      "Epoch 82/150\n",
      "11/11 [==============================] - 3s 276ms/step - loss: 0.0047 - accuracy: 0.9896 - val_loss: 0.0202 - val_accuracy: 0.9689\n",
      "Epoch 83/150\n",
      "11/11 [==============================] - 3s 270ms/step - loss: 0.0040 - accuracy: 0.9911 - val_loss: 0.0232 - val_accuracy: 0.9585\n",
      "Epoch 84/150\n",
      "11/11 [==============================] - 3s 276ms/step - loss: 0.0052 - accuracy: 0.9837 - val_loss: 0.0225 - val_accuracy: 0.9585\n",
      "Epoch 85/150\n",
      "11/11 [==============================] - 3s 272ms/step - loss: 0.0049 - accuracy: 0.9911 - val_loss: 0.0202 - val_accuracy: 0.9585\n",
      "Epoch 86/150\n",
      "11/11 [==============================] - 3s 271ms/step - loss: 0.0042 - accuracy: 0.9926 - val_loss: 0.0208 - val_accuracy: 0.9585\n",
      "Epoch 87/150\n",
      "11/11 [==============================] - 3s 279ms/step - loss: 0.0045 - accuracy: 0.9881 - val_loss: 0.0192 - val_accuracy: 0.9689\n",
      "Epoch 88/150\n",
      "11/11 [==============================] - 3s 285ms/step - loss: 0.0046 - accuracy: 0.9911 - val_loss: 0.0214 - val_accuracy: 0.9585\n",
      "Epoch 89/150\n",
      "11/11 [==============================] - 3s 283ms/step - loss: 0.0052 - accuracy: 0.9837 - val_loss: 0.0243 - val_accuracy: 0.9585\n",
      "Epoch 90/150\n",
      "11/11 [==============================] - 3s 274ms/step - loss: 0.0043 - accuracy: 0.9881 - val_loss: 0.0197 - val_accuracy: 0.9689\n",
      "Epoch 91/150\n",
      "11/11 [==============================] - 3s 270ms/step - loss: 0.0046 - accuracy: 0.9926 - val_loss: 0.0204 - val_accuracy: 0.9689\n",
      "Epoch 92/150\n",
      "11/11 [==============================] - 3s 269ms/step - loss: 0.0047 - accuracy: 0.9866 - val_loss: 0.0193 - val_accuracy: 0.9689\n",
      "Epoch 93/150\n",
      "11/11 [==============================] - 3s 275ms/step - loss: 0.0030 - accuracy: 0.9985 - val_loss: 0.0195 - val_accuracy: 0.9689\n",
      "Epoch 94/150\n",
      "11/11 [==============================] - 3s 275ms/step - loss: 0.0044 - accuracy: 0.9926 - val_loss: 0.0204 - val_accuracy: 0.9689\n",
      "Epoch 95/150\n",
      "11/11 [==============================] - 3s 275ms/step - loss: 0.0042 - accuracy: 0.9941 - val_loss: 0.0204 - val_accuracy: 0.9689\n",
      "Epoch 96/150\n",
      "11/11 [==============================] - 3s 282ms/step - loss: 0.0041 - accuracy: 0.9941 - val_loss: 0.0197 - val_accuracy: 0.9689\n",
      "Epoch 97/150\n",
      "11/11 [==============================] - 3s 274ms/step - loss: 0.0036 - accuracy: 0.9955 - val_loss: 0.0205 - val_accuracy: 0.9689\n",
      "Epoch 98/150\n",
      "11/11 [==============================] - 3s 276ms/step - loss: 0.0052 - accuracy: 0.9866 - val_loss: 0.0188 - val_accuracy: 0.9689\n",
      "Epoch 99/150\n",
      "11/11 [==============================] - 3s 271ms/step - loss: 0.0048 - accuracy: 0.9866 - val_loss: 0.0198 - val_accuracy: 0.9689\n",
      "Epoch 100/150\n",
      "11/11 [==============================] - 3s 280ms/step - loss: 0.0046 - accuracy: 0.9911 - val_loss: 0.0229 - val_accuracy: 0.9585\n",
      "Epoch 101/150\n",
      "11/11 [==============================] - 3s 275ms/step - loss: 0.0044 - accuracy: 0.9926 - val_loss: 0.0216 - val_accuracy: 0.9689\n",
      "Epoch 102/150\n",
      "11/11 [==============================] - 3s 277ms/step - loss: 0.0040 - accuracy: 0.9941 - val_loss: 0.0226 - val_accuracy: 0.9585\n",
      "Epoch 103/150\n",
      "11/11 [==============================] - 3s 276ms/step - loss: 0.0048 - accuracy: 0.9896 - val_loss: 0.0218 - val_accuracy: 0.9585\n",
      "Epoch 104/150\n",
      "11/11 [==============================] - 3s 273ms/step - loss: 0.0049 - accuracy: 0.9851 - val_loss: 0.0198 - val_accuracy: 0.9689\n",
      "Epoch 105/150\n",
      "11/11 [==============================] - 3s 270ms/step - loss: 0.0052 - accuracy: 0.9911 - val_loss: 0.0201 - val_accuracy: 0.9689\n",
      "Epoch 106/150\n",
      "11/11 [==============================] - 3s 275ms/step - loss: 0.0035 - accuracy: 0.9941 - val_loss: 0.0216 - val_accuracy: 0.9689\n",
      "Epoch 107/150\n",
      "11/11 [==============================] - 3s 286ms/step - loss: 0.0042 - accuracy: 0.9911 - val_loss: 0.0212 - val_accuracy: 0.9689\n",
      "Epoch 108/150\n",
      "11/11 [==============================] - 3s 277ms/step - loss: 0.0026 - accuracy: 0.9970 - val_loss: 0.0210 - val_accuracy: 0.9689\n",
      "Epoch 109/150\n",
      "11/11 [==============================] - 3s 272ms/step - loss: 0.0056 - accuracy: 0.9881 - val_loss: 0.0236 - val_accuracy: 0.9585\n",
      "Epoch 110/150\n",
      "11/11 [==============================] - 3s 275ms/step - loss: 0.0053 - accuracy: 0.9896 - val_loss: 0.0216 - val_accuracy: 0.9585\n",
      "Epoch 111/150\n",
      "11/11 [==============================] - 3s 269ms/step - loss: 0.0041 - accuracy: 0.9896 - val_loss: 0.0216 - val_accuracy: 0.9585\n",
      "Epoch 112/150\n",
      "11/11 [==============================] - 3s 275ms/step - loss: 0.0037 - accuracy: 0.9926 - val_loss: 0.0193 - val_accuracy: 0.9689\n",
      "Epoch 113/150\n",
      "11/11 [==============================] - 3s 273ms/step - loss: 0.0059 - accuracy: 0.9866 - val_loss: 0.0205 - val_accuracy: 0.9689\n",
      "Epoch 114/150\n",
      "11/11 [==============================] - 3s 270ms/step - loss: 0.0046 - accuracy: 0.9941 - val_loss: 0.0218 - val_accuracy: 0.9585\n"
     ]
    },
    {
     "name": "stdout",
     "output_type": "stream",
     "text": [
      "Epoch 115/150\n",
      "11/11 [==============================] - 3s 294ms/step - loss: 0.0048 - accuracy: 0.9881 - val_loss: 0.0214 - val_accuracy: 0.9689\n",
      "Epoch 116/150\n",
      "11/11 [==============================] - 3s 279ms/step - loss: 0.0040 - accuracy: 0.9926 - val_loss: 0.0216 - val_accuracy: 0.9585\n",
      "Epoch 117/150\n",
      "11/11 [==============================] - 3s 266ms/step - loss: 0.0032 - accuracy: 0.9911 - val_loss: 0.0244 - val_accuracy: 0.9585\n",
      "Epoch 118/150\n",
      "11/11 [==============================] - 3s 274ms/step - loss: 0.0040 - accuracy: 0.9896 - val_loss: 0.0247 - val_accuracy: 0.9585\n",
      "Epoch 119/150\n",
      "11/11 [==============================] - 3s 271ms/step - loss: 0.0032 - accuracy: 0.9955 - val_loss: 0.0208 - val_accuracy: 0.9585\n",
      "Epoch 120/150\n",
      "11/11 [==============================] - 3s 269ms/step - loss: 0.0046 - accuracy: 0.9896 - val_loss: 0.0203 - val_accuracy: 0.9689\n",
      "Epoch 121/150\n",
      "11/11 [==============================] - 3s 266ms/step - loss: 0.0044 - accuracy: 0.9866 - val_loss: 0.0227 - val_accuracy: 0.9585\n",
      "Epoch 122/150\n",
      "11/11 [==============================] - 3s 265ms/step - loss: 0.0054 - accuracy: 0.9896 - val_loss: 0.0233 - val_accuracy: 0.9585\n",
      "Epoch 123/150\n",
      "11/11 [==============================] - 3s 269ms/step - loss: 0.0043 - accuracy: 0.9941 - val_loss: 0.0196 - val_accuracy: 0.9585\n",
      "Epoch 124/150\n",
      "11/11 [==============================] - 3s 274ms/step - loss: 0.0057 - accuracy: 0.9837 - val_loss: 0.0182 - val_accuracy: 0.9585\n",
      "Epoch 125/150\n",
      "11/11 [==============================] - 3s 277ms/step - loss: 0.0032 - accuracy: 0.9985 - val_loss: 0.0195 - val_accuracy: 0.9585\n",
      "Epoch 126/150\n",
      "11/11 [==============================] - 3s 276ms/step - loss: 0.0037 - accuracy: 0.9941 - val_loss: 0.0201 - val_accuracy: 0.9585\n",
      "Epoch 127/150\n",
      "11/11 [==============================] - 3s 271ms/step - loss: 0.0044 - accuracy: 0.9866 - val_loss: 0.0201 - val_accuracy: 0.9585\n",
      "Epoch 128/150\n",
      "11/11 [==============================] - 3s 278ms/step - loss: 0.0042 - accuracy: 0.9881 - val_loss: 0.0189 - val_accuracy: 0.9585\n",
      "Epoch 129/150\n",
      "11/11 [==============================] - 3s 279ms/step - loss: 0.0044 - accuracy: 0.9911 - val_loss: 0.0210 - val_accuracy: 0.9585\n",
      "Epoch 130/150\n",
      "11/11 [==============================] - 3s 272ms/step - loss: 0.0035 - accuracy: 0.9955 - val_loss: 0.0221 - val_accuracy: 0.9585\n",
      "Epoch 131/150\n",
      "11/11 [==============================] - 3s 269ms/step - loss: 0.0033 - accuracy: 0.9941 - val_loss: 0.0205 - val_accuracy: 0.9585\n",
      "Epoch 132/150\n",
      "11/11 [==============================] - 3s 271ms/step - loss: 0.0034 - accuracy: 0.9955 - val_loss: 0.0207 - val_accuracy: 0.9585\n",
      "Epoch 133/150\n",
      "11/11 [==============================] - 3s 277ms/step - loss: 0.0029 - accuracy: 0.9970 - val_loss: 0.0221 - val_accuracy: 0.9585\n",
      "Epoch 134/150\n",
      "11/11 [==============================] - 3s 274ms/step - loss: 0.0041 - accuracy: 0.9941 - val_loss: 0.0236 - val_accuracy: 0.9585\n",
      "Epoch 135/150\n",
      "11/11 [==============================] - 3s 279ms/step - loss: 0.0030 - accuracy: 0.9926 - val_loss: 0.0204 - val_accuracy: 0.9585\n",
      "Epoch 136/150\n",
      "11/11 [==============================] - 3s 273ms/step - loss: 0.0031 - accuracy: 0.9926 - val_loss: 0.0198 - val_accuracy: 0.9689\n",
      "Epoch 137/150\n",
      "11/11 [==============================] - 3s 272ms/step - loss: 0.0035 - accuracy: 0.9941 - val_loss: 0.0237 - val_accuracy: 0.9585\n",
      "Epoch 138/150\n",
      "11/11 [==============================] - 3s 265ms/step - loss: 0.0020 - accuracy: 1.0000 - val_loss: 0.0250 - val_accuracy: 0.9585\n",
      "Epoch 139/150\n",
      "11/11 [==============================] - 3s 271ms/step - loss: 0.0030 - accuracy: 0.9926 - val_loss: 0.0236 - val_accuracy: 0.9585\n",
      "Epoch 140/150\n",
      "11/11 [==============================] - 3s 275ms/step - loss: 0.0032 - accuracy: 0.9941 - val_loss: 0.0225 - val_accuracy: 0.9585\n",
      "Epoch 141/150\n",
      "11/11 [==============================] - 3s 277ms/step - loss: 0.0041 - accuracy: 0.9896 - val_loss: 0.0215 - val_accuracy: 0.9585\n",
      "Epoch 142/150\n",
      "11/11 [==============================] - 3s 276ms/step - loss: 0.0034 - accuracy: 0.9941 - val_loss: 0.0231 - val_accuracy: 0.9585\n",
      "Epoch 143/150\n",
      "11/11 [==============================] - 3s 270ms/step - loss: 0.0048 - accuracy: 0.9866 - val_loss: 0.0217 - val_accuracy: 0.9585\n",
      "Epoch 144/150\n",
      "11/11 [==============================] - 3s 266ms/step - loss: 0.0038 - accuracy: 0.9926 - val_loss: 0.0192 - val_accuracy: 0.9585\n",
      "Epoch 145/150\n",
      "11/11 [==============================] - 3s 276ms/step - loss: 0.0042 - accuracy: 0.9881 - val_loss: 0.0203 - val_accuracy: 0.9585\n",
      "Epoch 146/150\n",
      "11/11 [==============================] - 3s 274ms/step - loss: 0.0045 - accuracy: 0.9911 - val_loss: 0.0223 - val_accuracy: 0.9585\n",
      "Epoch 147/150\n",
      "11/11 [==============================] - 3s 277ms/step - loss: 0.0048 - accuracy: 0.9881 - val_loss: 0.0247 - val_accuracy: 0.9585\n",
      "Epoch 148/150\n",
      "11/11 [==============================] - 3s 277ms/step - loss: 0.0065 - accuracy: 0.9822 - val_loss: 0.0172 - val_accuracy: 0.9689\n",
      "Epoch 149/150\n",
      "11/11 [==============================] - 3s 289ms/step - loss: 0.0042 - accuracy: 0.9896 - val_loss: 0.0211 - val_accuracy: 0.9585\n",
      "Epoch 150/150\n",
      "11/11 [==============================] - 3s 274ms/step - loss: 0.0046 - accuracy: 0.9866 - val_loss: 0.0262 - val_accuracy: 0.9585\n"
     ]
    }
   ],
   "source": [
    "history = model.fit(X_train, y_train, batch_size = 64, epochs=150, validation_data = (X_test,y_test), verbose=1)"
   ]
  },
  {
   "cell_type": "code",
   "execution_count": 33,
   "id": "4c5ddb23",
   "metadata": {},
   "outputs": [
    {
     "data": {
      "image/png": "[encoded data removed]",
      "text/plain": [
       "<Figure size 640x480 with 1 Axes>"
      ]
     },
     "metadata": {},
     "output_type": "display_data"
    },
    {
     "data": {
      "image/png": "[encoded data removed]",
      "text/plain": [
       "<Figure size 640x480 with 1 Axes>"
      ]
     },
     "metadata": {},
     "output_type": "display_data"
    }
   ],
   "source": [
    "acc = history.history['accuracy']\n",
    "val_acc = history.history['val_accuracy']\n",
    "loss = history.history['loss']\n",
    "val_loss = history.history['val_loss']\n",
    "epochs = range(1, len(acc) + 1)\n",
    "plt.plot(epochs, acc, 'bo', label='Training accuracy')\n",
    "plt.plot(epochs, val_acc, 'r', label='Validation accuracy')\n",
    "plt.title('Training and validation accuracy')\n",
    "plt.legend()\n",
    "plt.figure()\n",
    "plt.plot(epochs, loss, 'bo', label='Training loss')\n",
    "plt.plot(epochs, val_loss, 'r', label='Validation loss')\n",
    "plt.title('Training and validation loss')\n",
    "plt.legend()\n",
    "plt.show()"
   ]
  },
  {
   "cell_type": "code",
   "execution_count": 34,
   "id": "4cf092fc",
   "metadata": {},
   "outputs": [
    {
     "name": "stdout",
     "output_type": "stream",
     "text": [
      "10/10 [==============================] - 0s 11ms/step - loss: 0.0222 - accuracy: 0.9585\n",
      "accuracy is:  0.9584774971008301\n"
     ]
    }
   ],
   "source": [
    "a= model.evaluate(X_test,y_test)\n",
    "print(\"accuracy is: \",a[1])"
   ]
  },
  {
   "cell_type": "code",
   "execution_count": 35,
   "id": "3e1f37ca",
   "metadata": {},
   "outputs": [],
   "source": [
    "model.save('resume.h5')"
   ]
  },
  {
   "cell_type": "code",
   "execution_count": null,
   "id": "922dc720",
   "metadata": {},
   "outputs": [],
   "source": []
  }
 ],
 "metadata": {
  "kernelspec": {
   "display_name": "Python 3 (ipykernel)",
   "language": "python",
   "name": "python3"
  },
  "language_info": {
   "codemirror_mode": {
    "name": "ipython",
    "version": 3
   },
   "file_extension": ".py",
   "mimetype": "text/x-python",
   "name": "python",
   "nbconvert_exporter": "python",
   "pygments_lexer": "ipython3",
   "version": "3.9.13"
  }
 },
 "nbformat": 4,
 "nbformat_minor": 5
}
